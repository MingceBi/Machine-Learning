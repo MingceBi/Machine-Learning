{
 "cells": [
  {
   "cell_type": "markdown",
   "metadata": {},
   "source": [
    "# Handle Missing Value\n",
    "This document Includes Missing Value Handling using Python, and it covers these methods:\n",
    "* Simple Mean/median/mode imputation\n",
    "* LOCF & NOCB\n",
    "* Linear Interpolation\n",
    "* KNN\n",
    "* Random Forest\n",
    "* Bag Impute (Bootstrap Aggregation)\n",
    "* PMM (Predictive Mean Matching)"
   ]
  },
  {
   "cell_type": "code",
   "execution_count": 22,
   "metadata": {},
   "outputs": [],
   "source": [
    "import pandas as pd\n",
    "import numpy as np\n",
    "from sklearn.impute import KNNImputer"
   ]
  },
  {
   "cell_type": "markdown",
   "metadata": {},
   "source": [
    "## Simple Mean median mode imputation\n",
    "Mean/Median/Mode Imputation: Replacing missing values with the mean, median, or mode of the column."
   ]
  },
  {
   "cell_type": "code",
   "execution_count": 6,
   "metadata": {},
   "outputs": [
    {
     "data": {
      "text/html": [
       "<div>\n",
       "<style scoped>\n",
       "    .dataframe tbody tr th:only-of-type {\n",
       "        vertical-align: middle;\n",
       "    }\n",
       "\n",
       "    .dataframe tbody tr th {\n",
       "        vertical-align: top;\n",
       "    }\n",
       "\n",
       "    .dataframe thead th {\n",
       "        text-align: right;\n",
       "    }\n",
       "</style>\n",
       "<table border=\"1\" class=\"dataframe\">\n",
       "  <thead>\n",
       "    <tr style=\"text-align: right;\">\n",
       "      <th></th>\n",
       "      <th>Name</th>\n",
       "      <th>Age</th>\n",
       "      <th>Salary</th>\n",
       "      <th>Department</th>\n",
       "    </tr>\n",
       "  </thead>\n",
       "  <tbody>\n",
       "    <tr>\n",
       "      <th>0</th>\n",
       "      <td>Alice</td>\n",
       "      <td>25.0</td>\n",
       "      <td>50000.0</td>\n",
       "      <td>HR</td>\n",
       "    </tr>\n",
       "    <tr>\n",
       "      <th>1</th>\n",
       "      <td>Bob</td>\n",
       "      <td>NaN</td>\n",
       "      <td>48000.0</td>\n",
       "      <td>Marketing</td>\n",
       "    </tr>\n",
       "    <tr>\n",
       "      <th>2</th>\n",
       "      <td>Charlie</td>\n",
       "      <td>35.0</td>\n",
       "      <td>NaN</td>\n",
       "      <td>None</td>\n",
       "    </tr>\n",
       "    <tr>\n",
       "      <th>3</th>\n",
       "      <td>David</td>\n",
       "      <td>28.0</td>\n",
       "      <td>51000.0</td>\n",
       "      <td>HR</td>\n",
       "    </tr>\n",
       "    <tr>\n",
       "      <th>4</th>\n",
       "      <td>Eva</td>\n",
       "      <td>NaN</td>\n",
       "      <td>50000.0</td>\n",
       "      <td>IT</td>\n",
       "    </tr>\n",
       "  </tbody>\n",
       "</table>\n",
       "</div>"
      ],
      "text/plain": [
       "      Name   Age   Salary Department\n",
       "0    Alice  25.0  50000.0         HR\n",
       "1      Bob   NaN  48000.0  Marketing\n",
       "2  Charlie  35.0      NaN       None\n",
       "3    David  28.0  51000.0         HR\n",
       "4      Eva   NaN  50000.0         IT"
      ]
     },
     "execution_count": 6,
     "metadata": {},
     "output_type": "execute_result"
    }
   ],
   "source": [
    "data = {\n",
    "    'Name': ['Alice', 'Bob', 'Charlie', 'David', 'Eva'],\n",
    "    'Age': [25, None, 35, 28, None],\n",
    "    'Salary': [50000, 48000, None, 51000, 50000],\n",
    "    'Department': ['HR', 'Marketing', None, 'HR', 'IT']\n",
    "}\n",
    "df = pd.DataFrame(data)\n",
    "\n",
    "df"
   ]
  },
  {
   "cell_type": "code",
   "execution_count": 7,
   "metadata": {},
   "outputs": [],
   "source": [
    "# Mean Imputation for Salary\n",
    "# This method will replace the missing values in the Salary column with the mean salary. It's appropriate for Salary since it is a continuous variable where the mean can provide a reasonable estimate assuming the data is normally distributed and doesn't contain outliers.\n",
    "df['Salary'] = df['Salary'].fillna(df['Salary'].mean())"
   ]
  },
  {
   "cell_type": "code",
   "execution_count": 8,
   "metadata": {},
   "outputs": [],
   "source": [
    "# Median Imputation for Age\n",
    "# Since Age might not be normally distributed and can be skewed or contain outliers, the median provides a more robust estimate for missing values than the mean.\n",
    "df['Age'] = df['Age'].fillna(df['Age'].median())"
   ]
  },
  {
   "cell_type": "code",
   "execution_count": 9,
   "metadata": {},
   "outputs": [],
   "source": [
    "# Mode Imputation for Department\n",
    "# For categorical data like Department, the mode (the most frequently occurring value) is used to fill in missing values. This approach is logical for categorical data where average or median does not apply.\n",
    "df['Department'] = df['Department'].fillna(df['Department'].mode()[0])"
   ]
  },
  {
   "cell_type": "code",
   "execution_count": 10,
   "metadata": {},
   "outputs": [
    {
     "data": {
      "text/html": [
       "<div>\n",
       "<style scoped>\n",
       "    .dataframe tbody tr th:only-of-type {\n",
       "        vertical-align: middle;\n",
       "    }\n",
       "\n",
       "    .dataframe tbody tr th {\n",
       "        vertical-align: top;\n",
       "    }\n",
       "\n",
       "    .dataframe thead th {\n",
       "        text-align: right;\n",
       "    }\n",
       "</style>\n",
       "<table border=\"1\" class=\"dataframe\">\n",
       "  <thead>\n",
       "    <tr style=\"text-align: right;\">\n",
       "      <th></th>\n",
       "      <th>Name</th>\n",
       "      <th>Age</th>\n",
       "      <th>Salary</th>\n",
       "      <th>Department</th>\n",
       "    </tr>\n",
       "  </thead>\n",
       "  <tbody>\n",
       "    <tr>\n",
       "      <th>0</th>\n",
       "      <td>Alice</td>\n",
       "      <td>25.0</td>\n",
       "      <td>50000.0</td>\n",
       "      <td>HR</td>\n",
       "    </tr>\n",
       "    <tr>\n",
       "      <th>1</th>\n",
       "      <td>Bob</td>\n",
       "      <td>28.0</td>\n",
       "      <td>48000.0</td>\n",
       "      <td>Marketing</td>\n",
       "    </tr>\n",
       "    <tr>\n",
       "      <th>2</th>\n",
       "      <td>Charlie</td>\n",
       "      <td>35.0</td>\n",
       "      <td>49750.0</td>\n",
       "      <td>HR</td>\n",
       "    </tr>\n",
       "    <tr>\n",
       "      <th>3</th>\n",
       "      <td>David</td>\n",
       "      <td>28.0</td>\n",
       "      <td>51000.0</td>\n",
       "      <td>HR</td>\n",
       "    </tr>\n",
       "    <tr>\n",
       "      <th>4</th>\n",
       "      <td>Eva</td>\n",
       "      <td>28.0</td>\n",
       "      <td>50000.0</td>\n",
       "      <td>IT</td>\n",
       "    </tr>\n",
       "  </tbody>\n",
       "</table>\n",
       "</div>"
      ],
      "text/plain": [
       "      Name   Age   Salary Department\n",
       "0    Alice  25.0  50000.0         HR\n",
       "1      Bob  28.0  48000.0  Marketing\n",
       "2  Charlie  35.0  49750.0         HR\n",
       "3    David  28.0  51000.0         HR\n",
       "4      Eva  28.0  50000.0         IT"
      ]
     },
     "execution_count": 10,
     "metadata": {},
     "output_type": "execute_result"
    }
   ],
   "source": [
    "# Final Output\n",
    "df"
   ]
  },
  {
   "cell_type": "markdown",
   "metadata": {},
   "source": [
    "### Intepretation of the Mean/Mode/Median Approach\n",
    "**Mean Imputation**\n",
    "* Strengths:\n",
    "    - Simple to implement and understand.\n",
    "    - Useful for numerical data without extreme values.\n",
    "* Drawbacks:\n",
    "    - Sensitive to outliers: Mean values can be skewed significantly by extreme values, leading to misleading imputations.\n",
    "    - **Reduces variance**: By replacing missing data with the mean, the variance and standard deviation of the dataset are artificially reduced, as the mean is less variable than the original data points. \n",
    "    - Biases the distribution: The distribution of the data may become more concentrated around the mean, affecting statistical tests and the performance of machine learning models that assume data normality or other specific distributions.\n",
    "\n",
    "**Median Imputation**\n",
    "* Strengths:\n",
    "    - Robust against outliers: The median is a better measure of central tendency when the data contains outliers.\n",
    "    - Maintains the data's central tendency without being affected by the range and extreme values.\n",
    "* Drawbacks:\n",
    "    - May not represent the data accurately if the data is not symmetrically distributed.\n",
    "    - Similar to mean imputation, it can reduce the overall variance of the data, although to a lesser extent.\n",
    "\n",
    "**Mode Imputation**\n",
    "* Strengths:\n",
    "    - Appropriate for categorical data: It is the only central tendency measure suitable for nominal data.\n",
    "    - Maintains the most common category, preserving the most likely occurrence.\n",
    "* Drawbacks:\n",
    "    - May introduce bias if the mode is not representative of the underlying probabilistic mechanisms of the data.\n",
    "    - Reduces data diversity: Repeatedly filling in the mode can oversimplify the dataset, underestimate the variance among categories, and lead to incorrect conclusions.\n",
    "    - Poor choice for numerical data or data with high diversity in categories where multiple modes or no clear mode exists."
   ]
  },
  {
   "cell_type": "markdown",
   "metadata": {},
   "source": [
    "### MCAR (Missing Completely at Random) Situation\n",
    "**Definition of MCAR**\n",
    "- Missing Completely at Random: The missingness of data is completely random and does not depend on any observed or unobserved data. This means that the likelihood of a data point being missing is the same across all observations, irrespective of both the observable characteristics and the unobservable parameters of the dataset.\n",
    "\n",
    "**Implications of MCAR**\n",
    "- In an MCAR scenario, the missing values are randomly distributed throughout the dataset, and the data that remains is a random sample of the entire dataset. This randomness implies that the characteristics of the missing data are similar to those of the observed data. Therefore, under the MCAR assumption, statistical analysis performed on the dataset after dealing with missing data (like deletion or imputation) is unbiased in terms of estimations of means, variances, and model parameters.\n",
    "\n",
    "**Validity of Statistical Inference**\n",
    "When data is MCAR, the use of simple imputation methods like mean, median, or mode does not typically bias the estimates of the dataset's central tendencies. ***However, these methods still affect the variance and distribution as they do not introduce any variability that the original missing data would have had***."
   ]
  },
  {
   "cell_type": "markdown",
   "metadata": {},
   "source": [
    "## Random Imputation\n",
    "This method is useful for preserving the original distribution of the data when missingness is completely random. (MCAR situation)"
   ]
  },
  {
   "cell_type": "code",
   "execution_count": 13,
   "metadata": {},
   "outputs": [
    {
     "data": {
      "text/html": [
       "<div>\n",
       "<style scoped>\n",
       "    .dataframe tbody tr th:only-of-type {\n",
       "        vertical-align: middle;\n",
       "    }\n",
       "\n",
       "    .dataframe tbody tr th {\n",
       "        vertical-align: top;\n",
       "    }\n",
       "\n",
       "    .dataframe thead th {\n",
       "        text-align: right;\n",
       "    }\n",
       "</style>\n",
       "<table border=\"1\" class=\"dataframe\">\n",
       "  <thead>\n",
       "    <tr style=\"text-align: right;\">\n",
       "      <th></th>\n",
       "      <th>Name</th>\n",
       "      <th>Salary</th>\n",
       "    </tr>\n",
       "  </thead>\n",
       "  <tbody>\n",
       "    <tr>\n",
       "      <th>0</th>\n",
       "      <td>Alice</td>\n",
       "      <td>50000.0</td>\n",
       "    </tr>\n",
       "    <tr>\n",
       "      <th>1</th>\n",
       "      <td>Bob</td>\n",
       "      <td>NaN</td>\n",
       "    </tr>\n",
       "    <tr>\n",
       "      <th>2</th>\n",
       "      <td>Charlie</td>\n",
       "      <td>55000.0</td>\n",
       "    </tr>\n",
       "    <tr>\n",
       "      <th>3</th>\n",
       "      <td>David</td>\n",
       "      <td>NaN</td>\n",
       "    </tr>\n",
       "    <tr>\n",
       "      <th>4</th>\n",
       "      <td>Eva</td>\n",
       "      <td>50000.0</td>\n",
       "    </tr>\n",
       "  </tbody>\n",
       "</table>\n",
       "</div>"
      ],
      "text/plain": [
       "      Name   Salary\n",
       "0    Alice  50000.0\n",
       "1      Bob      NaN\n",
       "2  Charlie  55000.0\n",
       "3    David      NaN\n",
       "4      Eva  50000.0"
      ]
     },
     "execution_count": 13,
     "metadata": {},
     "output_type": "execute_result"
    }
   ],
   "source": [
    "data = {'Name': ['Alice', 'Bob', 'Charlie', 'David', 'Eva'],\n",
    "        'Salary': [50000, None, 55000, None, 50000]}\n",
    "df_random = pd.DataFrame(data)\n",
    "df_random"
   ]
  },
  {
   "cell_type": "code",
   "execution_count": 14,
   "metadata": {},
   "outputs": [
    {
     "data": {
      "text/html": [
       "<div>\n",
       "<style scoped>\n",
       "    .dataframe tbody tr th:only-of-type {\n",
       "        vertical-align: middle;\n",
       "    }\n",
       "\n",
       "    .dataframe tbody tr th {\n",
       "        vertical-align: top;\n",
       "    }\n",
       "\n",
       "    .dataframe thead th {\n",
       "        text-align: right;\n",
       "    }\n",
       "</style>\n",
       "<table border=\"1\" class=\"dataframe\">\n",
       "  <thead>\n",
       "    <tr style=\"text-align: right;\">\n",
       "      <th></th>\n",
       "      <th>Name</th>\n",
       "      <th>Salary</th>\n",
       "    </tr>\n",
       "  </thead>\n",
       "  <tbody>\n",
       "    <tr>\n",
       "      <th>0</th>\n",
       "      <td>Alice</td>\n",
       "      <td>50000.0</td>\n",
       "    </tr>\n",
       "    <tr>\n",
       "      <th>1</th>\n",
       "      <td>Bob</td>\n",
       "      <td>50000.0</td>\n",
       "    </tr>\n",
       "    <tr>\n",
       "      <th>2</th>\n",
       "      <td>Charlie</td>\n",
       "      <td>55000.0</td>\n",
       "    </tr>\n",
       "    <tr>\n",
       "      <th>3</th>\n",
       "      <td>David</td>\n",
       "      <td>50000.0</td>\n",
       "    </tr>\n",
       "    <tr>\n",
       "      <th>4</th>\n",
       "      <td>Eva</td>\n",
       "      <td>50000.0</td>\n",
       "    </tr>\n",
       "  </tbody>\n",
       "</table>\n",
       "</div>"
      ],
      "text/plain": [
       "      Name   Salary\n",
       "0    Alice  50000.0\n",
       "1      Bob  50000.0\n",
       "2  Charlie  55000.0\n",
       "3    David  50000.0\n",
       "4      Eva  50000.0"
      ]
     },
     "execution_count": 14,
     "metadata": {},
     "output_type": "execute_result"
    }
   ],
   "source": [
    "# Random Imputation for the 'Salary' column\n",
    "df_random['Salary'] = df_random['Salary'].apply(lambda x: x if not pd.isna(x) else np.random.choice(df_random['Salary'].dropna()))\n",
    "df_random"
   ]
  },
  {
   "cell_type": "markdown",
   "metadata": {},
   "source": [
    "## Last Observation Carried Forward & Next Observation Carried Backward\n",
    "LOCF and NOCB are primarily used in time series but can be demonstrated here for conceptual purposes.\n",
    "Better used in time series data"
   ]
  },
  {
   "cell_type": "code",
   "execution_count": 15,
   "metadata": {},
   "outputs": [
    {
     "data": {
      "text/html": [
       "<div>\n",
       "<style scoped>\n",
       "    .dataframe tbody tr th:only-of-type {\n",
       "        vertical-align: middle;\n",
       "    }\n",
       "\n",
       "    .dataframe tbody tr th {\n",
       "        vertical-align: top;\n",
       "    }\n",
       "\n",
       "    .dataframe thead th {\n",
       "        text-align: right;\n",
       "    }\n",
       "</style>\n",
       "<table border=\"1\" class=\"dataframe\">\n",
       "  <thead>\n",
       "    <tr style=\"text-align: right;\">\n",
       "      <th></th>\n",
       "      <th>Date</th>\n",
       "      <th>Salary</th>\n",
       "    </tr>\n",
       "  </thead>\n",
       "  <tbody>\n",
       "    <tr>\n",
       "      <th>0</th>\n",
       "      <td>2020-01-01</td>\n",
       "      <td>50000.0</td>\n",
       "    </tr>\n",
       "    <tr>\n",
       "      <th>1</th>\n",
       "      <td>2020-01-02</td>\n",
       "      <td>NaN</td>\n",
       "    </tr>\n",
       "    <tr>\n",
       "      <th>2</th>\n",
       "      <td>2020-01-03</td>\n",
       "      <td>55000.0</td>\n",
       "    </tr>\n",
       "    <tr>\n",
       "      <th>3</th>\n",
       "      <td>2020-01-04</td>\n",
       "      <td>NaN</td>\n",
       "    </tr>\n",
       "    <tr>\n",
       "      <th>4</th>\n",
       "      <td>2020-01-05</td>\n",
       "      <td>50000.0</td>\n",
       "    </tr>\n",
       "  </tbody>\n",
       "</table>\n",
       "</div>"
      ],
      "text/plain": [
       "        Date   Salary\n",
       "0 2020-01-01  50000.0\n",
       "1 2020-01-02      NaN\n",
       "2 2020-01-03  55000.0\n",
       "3 2020-01-04      NaN\n",
       "4 2020-01-05  50000.0"
      ]
     },
     "execution_count": 15,
     "metadata": {},
     "output_type": "execute_result"
    }
   ],
   "source": [
    "data = {'Date': pd.date_range(start='1/1/2020', periods=5, freq='D'),\n",
    "        'Salary': [50000, None, 55000, None, 50000]}\n",
    "df_locf_nocb = pd.DataFrame(data)\n",
    "df_locf_nocb"
   ]
  },
  {
   "cell_type": "code",
   "execution_count": 16,
   "metadata": {},
   "outputs": [
    {
     "name": "stderr",
     "output_type": "stream",
     "text": [
      "C:\\Users\\Michael\\AppData\\Local\\Temp\\ipykernel_8396\\3468418248.py:2: FutureWarning: Series.fillna with 'method' is deprecated and will raise in a future version. Use obj.ffill() or obj.bfill() instead.\n",
      "  df_locf_nocb['Salary'] = df_locf_nocb['Salary'].fillna(method='ffill')\n"
     ]
    },
    {
     "data": {
      "text/html": [
       "<div>\n",
       "<style scoped>\n",
       "    .dataframe tbody tr th:only-of-type {\n",
       "        vertical-align: middle;\n",
       "    }\n",
       "\n",
       "    .dataframe tbody tr th {\n",
       "        vertical-align: top;\n",
       "    }\n",
       "\n",
       "    .dataframe thead th {\n",
       "        text-align: right;\n",
       "    }\n",
       "</style>\n",
       "<table border=\"1\" class=\"dataframe\">\n",
       "  <thead>\n",
       "    <tr style=\"text-align: right;\">\n",
       "      <th></th>\n",
       "      <th>Date</th>\n",
       "      <th>Salary</th>\n",
       "    </tr>\n",
       "  </thead>\n",
       "  <tbody>\n",
       "    <tr>\n",
       "      <th>0</th>\n",
       "      <td>2020-01-01</td>\n",
       "      <td>50000.0</td>\n",
       "    </tr>\n",
       "    <tr>\n",
       "      <th>1</th>\n",
       "      <td>2020-01-02</td>\n",
       "      <td>50000.0</td>\n",
       "    </tr>\n",
       "    <tr>\n",
       "      <th>2</th>\n",
       "      <td>2020-01-03</td>\n",
       "      <td>55000.0</td>\n",
       "    </tr>\n",
       "    <tr>\n",
       "      <th>3</th>\n",
       "      <td>2020-01-04</td>\n",
       "      <td>55000.0</td>\n",
       "    </tr>\n",
       "    <tr>\n",
       "      <th>4</th>\n",
       "      <td>2020-01-05</td>\n",
       "      <td>50000.0</td>\n",
       "    </tr>\n",
       "  </tbody>\n",
       "</table>\n",
       "</div>"
      ],
      "text/plain": [
       "        Date   Salary\n",
       "0 2020-01-01  50000.0\n",
       "1 2020-01-02  50000.0\n",
       "2 2020-01-03  55000.0\n",
       "3 2020-01-04  55000.0\n",
       "4 2020-01-05  50000.0"
      ]
     },
     "execution_count": 16,
     "metadata": {},
     "output_type": "execute_result"
    }
   ],
   "source": [
    "# LOCF\n",
    "df_locf_nocb['Salary'] = df_locf_nocb['Salary'].fillna(method='ffill')\n",
    "df_locf_nocb"
   ]
  },
  {
   "cell_type": "code",
   "execution_count": 17,
   "metadata": {},
   "outputs": [
    {
     "name": "stderr",
     "output_type": "stream",
     "text": [
      "C:\\Users\\Michael\\AppData\\Local\\Temp\\ipykernel_8396\\168411140.py:6: FutureWarning: Series.fillna with 'method' is deprecated and will raise in a future version. Use obj.ffill() or obj.bfill() instead.\n",
      "  df_locf_nocb['Salary'] = df_locf_nocb['Salary'].fillna(method='bfill')\n"
     ]
    }
   ],
   "source": [
    "data = {'Date': pd.date_range(start='1/1/2020', periods=5, freq='D'),\n",
    "        'Salary': [50000, None, 55000, None, 50000]}\n",
    "df_locf_nocb = pd.DataFrame(data)\n",
    "df_locf_nocb\n",
    "# NOCB\n",
    "df_locf_nocb['Salary'] = df_locf_nocb['Salary'].fillna(method='bfill')"
   ]
  },
  {
   "cell_type": "code",
   "execution_count": 18,
   "metadata": {},
   "outputs": [
    {
     "data": {
      "text/html": [
       "<div>\n",
       "<style scoped>\n",
       "    .dataframe tbody tr th:only-of-type {\n",
       "        vertical-align: middle;\n",
       "    }\n",
       "\n",
       "    .dataframe tbody tr th {\n",
       "        vertical-align: top;\n",
       "    }\n",
       "\n",
       "    .dataframe thead th {\n",
       "        text-align: right;\n",
       "    }\n",
       "</style>\n",
       "<table border=\"1\" class=\"dataframe\">\n",
       "  <thead>\n",
       "    <tr style=\"text-align: right;\">\n",
       "      <th></th>\n",
       "      <th>Date</th>\n",
       "      <th>Salary</th>\n",
       "    </tr>\n",
       "  </thead>\n",
       "  <tbody>\n",
       "    <tr>\n",
       "      <th>0</th>\n",
       "      <td>2020-01-01</td>\n",
       "      <td>50000.0</td>\n",
       "    </tr>\n",
       "    <tr>\n",
       "      <th>1</th>\n",
       "      <td>2020-01-02</td>\n",
       "      <td>55000.0</td>\n",
       "    </tr>\n",
       "    <tr>\n",
       "      <th>2</th>\n",
       "      <td>2020-01-03</td>\n",
       "      <td>55000.0</td>\n",
       "    </tr>\n",
       "    <tr>\n",
       "      <th>3</th>\n",
       "      <td>2020-01-04</td>\n",
       "      <td>50000.0</td>\n",
       "    </tr>\n",
       "    <tr>\n",
       "      <th>4</th>\n",
       "      <td>2020-01-05</td>\n",
       "      <td>50000.0</td>\n",
       "    </tr>\n",
       "  </tbody>\n",
       "</table>\n",
       "</div>"
      ],
      "text/plain": [
       "        Date   Salary\n",
       "0 2020-01-01  50000.0\n",
       "1 2020-01-02  55000.0\n",
       "2 2020-01-03  55000.0\n",
       "3 2020-01-04  50000.0\n",
       "4 2020-01-05  50000.0"
      ]
     },
     "execution_count": 18,
     "metadata": {},
     "output_type": "execute_result"
    }
   ],
   "source": [
    "df_locf_nocb"
   ]
  },
  {
   "cell_type": "markdown",
   "metadata": {},
   "source": [
    "## Linear Interpolation\n",
    "Ideal for data where changes between points are expected to be linear, often used in time series."
   ]
  },
  {
   "cell_type": "code",
   "execution_count": 19,
   "metadata": {},
   "outputs": [
    {
     "data": {
      "text/html": [
       "<div>\n",
       "<style scoped>\n",
       "    .dataframe tbody tr th:only-of-type {\n",
       "        vertical-align: middle;\n",
       "    }\n",
       "\n",
       "    .dataframe tbody tr th {\n",
       "        vertical-align: top;\n",
       "    }\n",
       "\n",
       "    .dataframe thead th {\n",
       "        text-align: right;\n",
       "    }\n",
       "</style>\n",
       "<table border=\"1\" class=\"dataframe\">\n",
       "  <thead>\n",
       "    <tr style=\"text-align: right;\">\n",
       "      <th></th>\n",
       "      <th>Time</th>\n",
       "      <th>Salary</th>\n",
       "    </tr>\n",
       "  </thead>\n",
       "  <tbody>\n",
       "    <tr>\n",
       "      <th>0</th>\n",
       "      <td>1</td>\n",
       "      <td>50000.0</td>\n",
       "    </tr>\n",
       "    <tr>\n",
       "      <th>1</th>\n",
       "      <td>2</td>\n",
       "      <td>NaN</td>\n",
       "    </tr>\n",
       "    <tr>\n",
       "      <th>2</th>\n",
       "      <td>3</td>\n",
       "      <td>55000.0</td>\n",
       "    </tr>\n",
       "    <tr>\n",
       "      <th>3</th>\n",
       "      <td>4</td>\n",
       "      <td>NaN</td>\n",
       "    </tr>\n",
       "    <tr>\n",
       "      <th>4</th>\n",
       "      <td>5</td>\n",
       "      <td>50000.0</td>\n",
       "    </tr>\n",
       "  </tbody>\n",
       "</table>\n",
       "</div>"
      ],
      "text/plain": [
       "   Time   Salary\n",
       "0     1  50000.0\n",
       "1     2      NaN\n",
       "2     3  55000.0\n",
       "3     4      NaN\n",
       "4     5  50000.0"
      ]
     },
     "execution_count": 19,
     "metadata": {},
     "output_type": "execute_result"
    }
   ],
   "source": [
    "data = {'Time': [1, 2, 3, 4, 5],\n",
    "        'Salary': [50000, None, 55000, None, 50000]}\n",
    "df_linear = pd.DataFrame(data)\n",
    "\n",
    "df_linear"
   ]
  },
  {
   "cell_type": "code",
   "execution_count": 20,
   "metadata": {},
   "outputs": [
    {
     "data": {
      "text/html": [
       "<div>\n",
       "<style scoped>\n",
       "    .dataframe tbody tr th:only-of-type {\n",
       "        vertical-align: middle;\n",
       "    }\n",
       "\n",
       "    .dataframe tbody tr th {\n",
       "        vertical-align: top;\n",
       "    }\n",
       "\n",
       "    .dataframe thead th {\n",
       "        text-align: right;\n",
       "    }\n",
       "</style>\n",
       "<table border=\"1\" class=\"dataframe\">\n",
       "  <thead>\n",
       "    <tr style=\"text-align: right;\">\n",
       "      <th></th>\n",
       "      <th>Time</th>\n",
       "      <th>Salary</th>\n",
       "    </tr>\n",
       "  </thead>\n",
       "  <tbody>\n",
       "    <tr>\n",
       "      <th>0</th>\n",
       "      <td>1</td>\n",
       "      <td>50000.0</td>\n",
       "    </tr>\n",
       "    <tr>\n",
       "      <th>1</th>\n",
       "      <td>2</td>\n",
       "      <td>52500.0</td>\n",
       "    </tr>\n",
       "    <tr>\n",
       "      <th>2</th>\n",
       "      <td>3</td>\n",
       "      <td>55000.0</td>\n",
       "    </tr>\n",
       "    <tr>\n",
       "      <th>3</th>\n",
       "      <td>4</td>\n",
       "      <td>52500.0</td>\n",
       "    </tr>\n",
       "    <tr>\n",
       "      <th>4</th>\n",
       "      <td>5</td>\n",
       "      <td>50000.0</td>\n",
       "    </tr>\n",
       "  </tbody>\n",
       "</table>\n",
       "</div>"
      ],
      "text/plain": [
       "   Time   Salary\n",
       "0     1  50000.0\n",
       "1     2  52500.0\n",
       "2     3  55000.0\n",
       "3     4  52500.0\n",
       "4     5  50000.0"
      ]
     },
     "execution_count": 20,
     "metadata": {},
     "output_type": "execute_result"
    }
   ],
   "source": [
    "# Linear Interpolation\n",
    "df_linear['Salary'] = df_linear['Salary'].interpolate(method='linear')\n",
    "df_linear"
   ]
  },
  {
   "cell_type": "markdown",
   "metadata": {},
   "source": [
    "## K-Nearest Neighbors Imputation\n",
    "This method uses the nearest neighbors of the missing values to impute data, assuming that similar samples are nearby in the feature space."
   ]
  },
  {
   "cell_type": "markdown",
   "metadata": {},
   "source": [
    "### Definition and Logic Behind KNN\n",
    "K-Nearest Neighbors (KNN) is a versatile algorithm frequently used for both classification and regression, but it can also be applied for imputing missing data.\n",
    "\n",
    "**What Does KNN Mean?**\n",
    "* K-Nearest Neighbors (KNN) refers to an algorithm that operates on a simple principle: it predicts the label of a data point by looking at the 'k' closest labeled data points and taking a majority vote (for classification) or averaging the values (for regression). The \"neighbors\" are determined based on some distance metric, typically Euclidean distance.\n",
    "\n",
    "**Logic Behind KNN for Imputation**\n",
    "When applied to imputation, the KNN algorithm estimates the values of the missing data points using the nearest neighbors that have similar data points. Here’s the step-by-step process:\n",
    "\n",
    "1. **Distance Calculation**: First, the distance between data points is calculated, often using Euclidean distance. This helps in identifying which data points are similar to one another. When dealing with multiple features, the distance metric considers all the dimensionalities to compute the closeness of points.\n",
    "\n",
    "2. **Identify 'k' Nearest Neighbors**: For each data point with missing values, the algorithm identifies the nearest 'k' neighbors, i.e., the 'k' closest points based on the distance calculation.\n",
    "\n",
    "3. **Aggregate Neighbors’ Values**: Once the neighbors are identified, their values are aggregated to estimate the missing value. For numerical data, this might be the mean or median of the neighbors' values. For categorical data, it could be the mode.\n",
    "\n",
    "**Why Use KNN for Imputation?**\n",
    "    - Non-Linearity: KNN works well with non-linear data since it makes no assumption about the underlying data distribution, unlike linear models.\n",
    "    - Flexibility in Feature Relationships: It can effectively handle scenarios where the relationship between variables is complex and not easily modeled through traditional parametric approaches.\n",
    "    - Locality Sensitive: By using 'k' nearest neighbors, the imputation is localized. This locality sensitivity can be particularly effective where data points naturally cluster, ensuring that the imputed values are reasonable within given contexts or clusters.\n",
    "\n",
    "**Considerations**\n",
    "    - Choice of 'k': The number of neighbors ('k') plays a critical role. Too small a 'k' can make the noise in the data more influential, whereas too large a 'k' may smooth out subtleties in the data structure.\n",
    "    - Distance Metric: The choice of distance metric (Euclidean, Manhattan, etc.) can affect the performance of the KNN imputation. The metric needs to be chosen based on the nature of the data.\n",
    "    - Scalability: KNN can be computationally expensive for large datasets as it requires calculating the distance of each missing point to all other points and then sorting these distances to find the nearest neighbors.\n",
    "    - **Data Standardization**: Features should be scaled similarly because distance metrics like Euclidean are sensitive to magnitudes. Features with large values can dominate the distance calculation, leading to biased results."
   ]
  },
  {
   "attachments": {
    "image.png": {
     "image/png": "[encoded data removed]"
    }
   },
   "cell_type": "markdown",
   "metadata": {},
   "source": [
    "### Euclidean Distance Explination\n",
    "![image.png](attachment:image.png)\n",
    "* Euclidean distance is the most commonly used metric to measure the straight-line distance between two points in Euclidean space, which is the space defined by classical geometry. When used in the K-Nearest Neighbors (KNN) algorithm, Euclidean distance helps determine how close or similar two data points are, based on their features.\n",
    "\n",
    "* Euclidean distance is rooted in the Pythagorean theorem, which describes the relationship between the sides of a right triangle. In the context of distance measurement, think of a line segment between two points as the hypotenuse of a right triangle, where other sides are differences in each dimension (or feature) of the points.\n",
    "\n",
    "**Considerations**\n",
    "1. Normalization\n",
    "    - Normalization, also known as feature scaling, is a technique used to standardize the range of independent variables or features of data. In the context of KNN and other distance-based algorithms, normalization is vital because these algorithms use distance calculations to determine the closeness of data points.\n",
    "\n",
    "2. **Why Normalize?**\n",
    "    - Scale Dominance: Features often vary in their units (e.g., kilometers, kilograms, and hours) and range (e.g., age from 0 to 100, income from thousands to millions). Without normalization, a feature with a broader range will disproportionately influence the distance calculation, potentially overshadowing important trends in the smaller-scale features.\n",
    "\n",
    "    - Equitable Influence: Normalization ensures that each feature contributes approximately proportionately to the final distance calculations. This equitable influence is crucial for fair evaluation and comparison of distances.\n",
    "\n",
    "    - Example of Normalization:\n",
    "Consider a dataset with two features: Age (ranging from 0 to 100 years) and Income (ranging from $20,000 to $200,000). Without normalization, the Income feature would dominate the calculation of distances because of its larger range.\n",
    "\n",
    "3. **Curse of Dimensionality**\n",
    "Problems Introduced by High Dimensionality:\n",
    "    - **Sparsity of Data**: As dimensionality increases, the volume of the space increases exponentially, and data points become sparse. This sparsity makes it difficult for algorithms to find meaningful neighbors without a very large amount of data.\n",
    "\n",
    "    - **Distance Metric Degradation**: In high dimensions, the contrast between the nearest and farthest neighbors diminishes. This phenomenon is often called \"distance concentration,\" where traditional metrics like Euclidean distance begin to lose their effectiveness because all points appear almost equidistant.\n"
   ]
  },
  {
   "cell_type": "code",
   "execution_count": 21,
   "metadata": {},
   "outputs": [
    {
     "name": "stdout",
     "output_type": "stream",
     "text": [
      "Euclidean Distance:  5.385164807134504\n"
     ]
    }
   ],
   "source": [
    "# Euclidean Distance Calculation Example\n",
    "# Define two points in 3D space, for example\n",
    "P = np.array([1, 2, 3])\n",
    "Q = np.array([4, 6, 5])\n",
    "\n",
    "# Calculate the Euclidean distance\n",
    "distance = np.sqrt(np.sum((P - Q) ** 2))\n",
    "print(\"Euclidean Distance: \", distance)"
   ]
  },
  {
   "cell_type": "markdown",
   "metadata": {},
   "source": [
    "### KNN Code Example Usage\n",
    "In this example, missing values in the 'Age' and 'Income' columns are imputed based on the 2 nearest neighbors in the feature space. "
   ]
  },
  {
   "cell_type": "code",
   "execution_count": 23,
   "metadata": {},
   "outputs": [
    {
     "data": {
      "text/html": [
       "<div>\n",
       "<style scoped>\n",
       "    .dataframe tbody tr th:only-of-type {\n",
       "        vertical-align: middle;\n",
       "    }\n",
       "\n",
       "    .dataframe tbody tr th {\n",
       "        vertical-align: top;\n",
       "    }\n",
       "\n",
       "    .dataframe thead th {\n",
       "        text-align: right;\n",
       "    }\n",
       "</style>\n",
       "<table border=\"1\" class=\"dataframe\">\n",
       "  <thead>\n",
       "    <tr style=\"text-align: right;\">\n",
       "      <th></th>\n",
       "      <th>Age</th>\n",
       "      <th>Income</th>\n",
       "    </tr>\n",
       "  </thead>\n",
       "  <tbody>\n",
       "    <tr>\n",
       "      <th>0</th>\n",
       "      <td>25.0</td>\n",
       "      <td>50000.0</td>\n",
       "    </tr>\n",
       "    <tr>\n",
       "      <th>1</th>\n",
       "      <td>30.0</td>\n",
       "      <td>60000.0</td>\n",
       "    </tr>\n",
       "    <tr>\n",
       "      <th>2</th>\n",
       "      <td>NaN</td>\n",
       "      <td>55000.0</td>\n",
       "    </tr>\n",
       "    <tr>\n",
       "      <th>3</th>\n",
       "      <td>40.0</td>\n",
       "      <td>NaN</td>\n",
       "    </tr>\n",
       "    <tr>\n",
       "      <th>4</th>\n",
       "      <td>50.0</td>\n",
       "      <td>65000.0</td>\n",
       "    </tr>\n",
       "  </tbody>\n",
       "</table>\n",
       "</div>"
      ],
      "text/plain": [
       "    Age   Income\n",
       "0  25.0  50000.0\n",
       "1  30.0  60000.0\n",
       "2   NaN  55000.0\n",
       "3  40.0      NaN\n",
       "4  50.0  65000.0"
      ]
     },
     "execution_count": 23,
     "metadata": {},
     "output_type": "execute_result"
    }
   ],
   "source": [
    "data = {\n",
    "    'Age': [25, 30, None, 40, 50],\n",
    "    'Income': [50000, 60000, 55000, None, 65000]\n",
    "}\n",
    "df = pd.DataFrame(data)\n",
    "df"
   ]
  },
  {
   "cell_type": "code",
   "execution_count": 24,
   "metadata": {},
   "outputs": [
    {
     "data": {
      "text/html": [
       "<div>\n",
       "<style scoped>\n",
       "    .dataframe tbody tr th:only-of-type {\n",
       "        vertical-align: middle;\n",
       "    }\n",
       "\n",
       "    .dataframe tbody tr th {\n",
       "        vertical-align: top;\n",
       "    }\n",
       "\n",
       "    .dataframe thead th {\n",
       "        text-align: right;\n",
       "    }\n",
       "</style>\n",
       "<table border=\"1\" class=\"dataframe\">\n",
       "  <thead>\n",
       "    <tr style=\"text-align: right;\">\n",
       "      <th></th>\n",
       "      <th>Age</th>\n",
       "      <th>Income</th>\n",
       "    </tr>\n",
       "  </thead>\n",
       "  <tbody>\n",
       "    <tr>\n",
       "      <th>0</th>\n",
       "      <td>25.0</td>\n",
       "      <td>50000.0</td>\n",
       "    </tr>\n",
       "    <tr>\n",
       "      <th>1</th>\n",
       "      <td>30.0</td>\n",
       "      <td>60000.0</td>\n",
       "    </tr>\n",
       "    <tr>\n",
       "      <th>2</th>\n",
       "      <td>27.5</td>\n",
       "      <td>55000.0</td>\n",
       "    </tr>\n",
       "    <tr>\n",
       "      <th>3</th>\n",
       "      <td>40.0</td>\n",
       "      <td>62500.0</td>\n",
       "    </tr>\n",
       "    <tr>\n",
       "      <th>4</th>\n",
       "      <td>50.0</td>\n",
       "      <td>65000.0</td>\n",
       "    </tr>\n",
       "  </tbody>\n",
       "</table>\n",
       "</div>"
      ],
      "text/plain": [
       "    Age   Income\n",
       "0  25.0  50000.0\n",
       "1  30.0  60000.0\n",
       "2  27.5  55000.0\n",
       "3  40.0  62500.0\n",
       "4  50.0  65000.0"
      ]
     },
     "execution_count": 24,
     "metadata": {},
     "output_type": "execute_result"
    }
   ],
   "source": [
    "# Create the imputer object with k=2\n",
    "imputer = KNNImputer(n_neighbors=2)\n",
    "\n",
    "# Perform imputation\n",
    "df_imputed = pd.DataFrame(imputer.fit_transform(df), columns=df.columns)\n",
    "df_imputed"
   ]
  },
  {
   "cell_type": "markdown",
   "metadata": {},
   "source": [
    "## Random Forest Imputation\n",
    "Theory: Random Forest Imputation uses an ensemble of decision trees to predict missing values in the dataset. Each tree is built from a bootstrap sample of the data, and missing values are estimated using the out-of-bag (not used in building that tree) portion of the data.\n",
    "\n",
    "**Benefits**:\n",
    "1. Accuracy: Can handle complex interactions and non-linear relationships better than linear models.\n",
    "2. Robustness: Less prone to overfitting due to the ensemble approach.\n",
    "Versatility: Can be used for both categorical and numerical data.\n",
    "\n",
    "**Drawbacks**:\n",
    "\n",
    "1. Computational Cost: More computationally intensive than simpler methods.\n",
    "2. Complexity: Model parameters such as the number of trees and depth can significantly influence performance and require careful tuning.\n",
    "\n",
    "Random Forest is a versatile and powerful machine learning algorithm that involves constructing multiple decision trees during training and outputting the class that is the mode of the classes (classification) or mean/median prediction (regression) of the individual trees. It is an ensemble technique that improves upon the predictive performance and robustness of a single decision tree by combining the predictions from multiple trees.\n",
    "\n",
    "**How Does Random Forest Work?**\n",
    "* Bootstrap Aggregating (Bagging): Random Forest starts by creating multiple decision trees. Each tree is built from a random sample of the training data, drawn with replacement, known as a bootstrap sample. This means each tree gets its own slightly different view of the data. About one-third of the data is left out of each bootstrap sample and not used to train the corresponding tree.\n",
    "\n",
    "1. Building Trees: Each tree is grown to the largest extent possible (fully grown) without pruning. Unlike a single decision tree, which might use all features at every split, Random Forest randomly selects a subset of features at each split in the decision tree, which adds additional diversity to the model.\n",
    "\n",
    "2. Decision Making: For classification tasks, each tree in the forest votes, and the most popular class (mode) is chosen as the final outcome. For regression tasks, the average or median outcome of all trees is considered as the final prediction.\n",
    "\n",
    "3. Out-of-Bag (OOB) Data\n",
    "Definition: The out-of-bag (OOB) data for any given tree consists of those observations in the original dataset that were not included in the bootstrap sample used to build that tree. Since each bootstrap sample omits roughly one-third of the observations, these OOB observations can be used as a test set to evaluate the performance of that individual tree.\n",
    "\n",
    "    - **Role in Random Forest**: OOB data is particularly useful for providing an unbiased estimate of the model error without needing a separate validation set or cross-validation. Each tree’s error is evaluated on its OOB observations, providing a robust estimation of performance.\n",
    "\n",
    "    - **OOB in Imputation**: In the context of imputation, Random Forest can use the OOB data to predict missing values. Here’s how it works:\n",
    "\n",
    "    - When a tree is built on a bootstrap sample that does not include some instances (because they are OOB for this tree), the model uses this tree to impute missing values in those OOB instances based on the features that are observed.\n",
    "    \n",
    "    - This process is repeated across many trees, and for each instance with missing data, only the predictions from those trees where the instance was OOB are used. This results in multiple imputations for each missing value, which can be averaged (for regression) or voted on (for classification)."
   ]
  },
  {
   "cell_type": "markdown",
   "metadata": {},
   "source": [
    "### Random Forest Tree Generation and Decision Making Strategy\n",
    "1. Classification\n",
    "* In a classification task, Random Forest builds several decision trees, each of which predicts a class label for each input sample based on the features provided. To make a final decision on the class label for each input sample, Random Forest takes the mode of the class labels predicted by all the trees—this is known as \"majority voting.\"\n",
    "\n",
    "**Majority Voting Process:**\n",
    "Each decision tree in the forest predicts the class for an input.\n",
    "The class that gets the most votes (i.e., appears most frequently among all trees' predictions) is chosen as the final classification result for that input.\n",
    "\n",
    "**Example**:\n",
    "    - Suppose we are trying to classify fruits into either 'Apple', 'Banana', or 'Cherry' based on features like color, size, and sweetness. Assume our Random Forest model consists of three trees, and we have an input that represents a red, medium-sized, very sweet fruit.\n",
    "\n",
    "        * Tree 1 predicts: Apple\n",
    "        * Tree 2 predicts: Cherry\n",
    "        * Tree 3 predicts: Cherry\n",
    "The Random Forest will output \"Cherry\" as the final prediction for this fruit because \"Cherry\" is the mode of the predictions—it appears most frequently among the trees' outputs.\n",
    "\n",
    "2. Regression\n",
    "* For regression tasks, where the goal is to predict a continuous value rather than a class label, Random Forest works by having each tree in the forest predict a numerical value for each input. The final prediction is typically the average of these values across all trees. This averaging helps to minimize the variance and potential overfit of individual trees, leading to more stable and reliable predictions.\n",
    "\n",
    "**Averaging Process:**\n",
    "- Each decision tree predicts a numeric value for the input.\n",
    "- The final output is calculated by averaging these numeric predictions.\n",
    "\n",
    "**Example:**\n",
    "    - Suppose we are predicting the price of a house based on features like size, location, and number of rooms. Assume our Random Forest consists of three trees with the following predictions for a particular house:\n",
    "\n",
    "        * Tree 1 predicts: $300,000\n",
    "        * Tree 2 predicts: $320,000\n",
    "        * Tree 3 predicts: $310,000\n",
    "The Random Forest will output the average of these predictions: $(300,000 + 320,000 + 310,000) / 3 = $310,000$ as the final price estimation."
   ]
  },
  {
   "attachments": {
    "image.png": {
     "image/png": "[encoded data removed]"
    }
   },
   "cell_type": "markdown",
   "metadata": {},
   "source": [
    "### Random Forest Tree Growing Strategy\n",
    "1. Building Trees Without Pruning\n",
    "- In the context of decision trees, pruning is a technique used to reduce the size of a tree by removing parts of the tree that do not provide power to classify instances. This is done to prevent the model from overfitting to the noise in the training data. Pruning can be done by removing sections of the tree that use features which provide little added value in predicting the target variable, or by stopping the tree growth earlier during training.\n",
    "\n",
    "- However, in a Random Forest:\n",
    "    - **Fully Grown Trees**: Trees are grown to their maximum size and are not pruned. Each tree in the forest is built to the largest extent possible, with the leaves containing very pure or even single class instances in some cases.\n",
    "\n",
    "    - **Rationale**: The rationale behind not pruning trees in a Random Forest is rooted in the ensemble method itself. While individual trees may overfit the data, the averaging or majority voting across many trees in the forest can counteract this overfitting. This method leverages the diversity among the unpruned trees to achieve a more balanced and generalized prediction capability.\n",
    "\n",
    "    - **Effectiveness**: Unpruned trees are likely to have low bias and high variance. Random Forest mitigates the high variance part by averaging multiple such high-variance, low-bias trees, thus reducing the overall variance without increasing the bias.\n",
    "\n",
    "2. Randomly Selecting Features at Each Split\n",
    "- Another cornerstone of the Random Forest algorithm is the random selection of a subset of features at each split point when growing the trees. This is often referred to as the random subspace method.\n",
    "\n",
    "    - **Process**: When constructing a tree in the forest, at each node only a random subset of the features is considered for splitting. The size of this subset is a parameter of the algorithm (often denoted as max_features in implementations like scikit-learn). This could be a fixed number of features or a proportion of the total features.\n",
    "\n",
    "- **Purpose**: This randomness has several purposes:\n",
    "\n",
    "    - **Increases Diversity**: By randomly selecting a subset of features at each split, each tree in the forest is made different from the others, increasing the diversity of the ensemble. This diversity is key to the ensemble's ability to generalize well and reduce overfitting.\n",
    "\n",
    "    - **Reduces Correlation Between Trees**: If all features were considered in every tree, all trees might appear quite similar to each other, especially if some features are very strong predictors for the target variable. Random selection reduces this risk, ensuring trees are less correlated.\n",
    "    - **Improves Computational Efficiency**: Considering fewer features at each split point also speeds up the training process since fewer comparisons are needed.\n",
    "\n",
    "![image.png](attachment:image.png)"
   ]
  },
  {
   "cell_type": "markdown",
   "metadata": {},
   "source": [
    "### Random Forest Imputation Code Demonstration"
   ]
  },
  {
   "cell_type": "code",
   "execution_count": 25,
   "metadata": {},
   "outputs": [
    {
     "data": {
      "text/html": [
       "<div>\n",
       "<style scoped>\n",
       "    .dataframe tbody tr th:only-of-type {\n",
       "        vertical-align: middle;\n",
       "    }\n",
       "\n",
       "    .dataframe tbody tr th {\n",
       "        vertical-align: top;\n",
       "    }\n",
       "\n",
       "    .dataframe thead th {\n",
       "        text-align: right;\n",
       "    }\n",
       "</style>\n",
       "<table border=\"1\" class=\"dataframe\">\n",
       "  <thead>\n",
       "    <tr style=\"text-align: right;\">\n",
       "      <th></th>\n",
       "      <th>Age</th>\n",
       "      <th>Salary</th>\n",
       "    </tr>\n",
       "  </thead>\n",
       "  <tbody>\n",
       "    <tr>\n",
       "      <th>0</th>\n",
       "      <td>25.0</td>\n",
       "      <td>50000.0</td>\n",
       "    </tr>\n",
       "    <tr>\n",
       "      <th>1</th>\n",
       "      <td>30.0</td>\n",
       "      <td>60000.0</td>\n",
       "    </tr>\n",
       "    <tr>\n",
       "      <th>2</th>\n",
       "      <td>35.0</td>\n",
       "      <td>NaN</td>\n",
       "    </tr>\n",
       "    <tr>\n",
       "      <th>3</th>\n",
       "      <td>NaN</td>\n",
       "      <td>55000.0</td>\n",
       "    </tr>\n",
       "    <tr>\n",
       "      <th>4</th>\n",
       "      <td>45.0</td>\n",
       "      <td>65000.0</td>\n",
       "    </tr>\n",
       "  </tbody>\n",
       "</table>\n",
       "</div>"
      ],
      "text/plain": [
       "    Age   Salary\n",
       "0  25.0  50000.0\n",
       "1  30.0  60000.0\n",
       "2  35.0      NaN\n",
       "3   NaN  55000.0\n",
       "4  45.0  65000.0"
      ]
     },
     "execution_count": 25,
     "metadata": {},
     "output_type": "execute_result"
    }
   ],
   "source": [
    "from sklearn.ensemble import RandomForestRegressor\n",
    "data = {'Age': [25, 30, 35, None, 45],\n",
    "        'Salary': [50000, 60000, None, 55000, 65000]}\n",
    "df_rf = pd.DataFrame(data)\n",
    "df_rf"
   ]
  },
  {
   "cell_type": "code",
   "execution_count": 26,
   "metadata": {},
   "outputs": [
    {
     "name": "stdout",
     "output_type": "stream",
     "text": [
      "    Age   Salary\n",
      "0  25.0  50000.0\n",
      "1  30.0  60000.0\n",
      "3   NaN  55000.0\n",
      "4  45.0  65000.0\n",
      "    Age   Salary\n",
      "0  25.0  50000.0\n",
      "1  30.0  60000.0\n",
      "4  45.0  65000.0\n",
      "   Age   Salary\n",
      "3  NaN  55000.0\n",
      "     Age   Salary\n",
      "0  25.00  50000.0\n",
      "1  30.00  60000.0\n",
      "2  35.00      NaN\n",
      "3  27.15  55000.0\n",
      "4  45.00  65000.0\n"
     ]
    }
   ],
   "source": [
    "# Impute missing values in 'Age' using RandomForest\n",
    "age_data = df_rf.dropna(subset=['Salary'])\n",
    "age_train = age_data.dropna()\n",
    "age_predict = age_data[age_data['Age'].isna()]\n",
    "\n",
    "print(age_data)\n",
    "print(age_train)\n",
    "print(age_predict)\n",
    "\n",
    "model = RandomForestRegressor(n_estimators=100)\n",
    "model.fit(age_train[['Salary']], age_train['Age'])\n",
    "predicted_ages = model.predict(age_predict[['Salary']])\n",
    "\n",
    "df_rf.loc[df_rf['Age'].isna(), 'Age'] = predicted_ages\n",
    "print(df_rf)"
   ]
  },
  {
   "cell_type": "markdown",
   "metadata": {},
   "source": [
    "#### Intepretation of the random forest imputation code\n",
    "**Understanding the Role of Variables in model.fit()**\n",
    "\n",
    "1. In the model.fit() function:\n",
    "    - The first argument (age_train[['Salary']]) represents the features used by the model to make predictions.\n",
    "    - The second argument (age_train['Age']) represents the target variable that the model is trying to predict.\n",
    "\n",
    "So, in the code example:\n",
    "    * Salary is used as the independent variable (feature): It is the variable that the model uses to base its predictions on. Here, Salary is assumed to have some relationship with Age, and the model will learn this relationship during the training phase.\n",
    "\n",
    "    * Age is the dependent variable (target): It is what the model is trying to predict based on the observed Salary.\n",
    "\n",
    "- This setup is typically reversed from what one might expect in a conventional regression scenario where you might predict Salary based on Age. However, for the purpose of imputation, you are flipping the roles:\n",
    "\n",
    "**Why Flip the Roles?**\n",
    "* Goal of Imputation: The primary objective here is to fill in missing values in the Age column, not to model Salary as a function of Age. Therefore, Salary is used as the feature to predict Age, because Age has missing values that you want to estimate.\n",
    "\n",
    "* Data Availability: You have chosen to use Salary as the feature because it is the other variable available in the dataset that does not have a missing value for the instance where Age is missing. The idea is that Salary can provide some information about Age, given some underlying but unspecified relationship between earnings and age (e.g., older individuals might tend to earn more due to more extended career progression).\n",
    "\n",
    "**Practical Consideration in Imputation**\n",
    "- When imputing a variable like Age:\n",
    "    * It is essential to select features that logically correlate or associate with Age to make the imputation meaningful and accurate. In real-world scenarios, choosing the right features would involve understanding the domain and possibly performing exploratory data analysis to confirm relationships.\n",
    "    * This method of using Random Forest for imputation assumes that the relationship captured between the features (Salary) and the target (Age) during the training on the non-missing data holds true also in cases where the data is missing."
   ]
  },
  {
   "cell_type": "markdown",
   "metadata": {},
   "source": [
    "## Bagging Imputation (BagImpute) - Bootstrap Aggregating\n",
    "Bagging, short for Bootstrap Aggregating, is a powerful ensemble technique that aims to improve the stability and accuracy of machine learning algorithms. It involves training multiple models (usually of the same type) on different subsets of the original dataset, then combining their individual predictions to form a final result. This technique is used not only for prediction but also for imputation.\n",
    "\n",
    "**Logic Behind Bagging**\n",
    "    - **Bootstrap Sampling**: In bagging, each model in the ensemble is trained on a random sample of the data set, drawn with replacement. This sampling technique is called bootstrap sampling and allows some observations to appear more than once in a single sample, while others may not appear at all.\n",
    "\n",
    "    - **Independent Training**: Each model is trained independently of the others, which decreases the variance without increasing the bias. The models can be decision trees, though bagging can be used with any type of model.\n",
    "\n",
    "    - **Aggregation of Predictions**: Once all models are trained, their predictions are aggregated, typically by averaging (for regression) or by majority vote (for classification). This aggregation helps to reduce variance further and also mitigates the risk of overfitting to the training data.\n",
    "\n",
    "**Differences from Random Forest**\n",
    "1. **Feature Subset Selection**: While both Random Forest and Bagging use bootstrap samples to train each tree, Random Forest introduces an additional layer of randomness by selecting a random subset of features for splitting at each node within a tree. Bagging does not typically involve this feature subset selection; each model has access to all features in the training data it receives.\n",
    "2. **Model Independence**: Trees in Random Forest are more de-correlated due to the random selection of features, compared to Bagging where trees can be more correlated if the predictor features strongly influence the output.\n",
    "3. **Objective**: Random Forest often aims at building a strong predictive model, whereas Bagging can focus on reducing variance and improving prediction stability, which is critical in tasks like imputation where maintaining data integrity is essential.\n"
   ]
  },
  {
   "cell_type": "code",
   "execution_count": 27,
   "metadata": {},
   "outputs": [
    {
     "data": {
      "text/html": [
       "<div>\n",
       "<style scoped>\n",
       "    .dataframe tbody tr th:only-of-type {\n",
       "        vertical-align: middle;\n",
       "    }\n",
       "\n",
       "    .dataframe tbody tr th {\n",
       "        vertical-align: top;\n",
       "    }\n",
       "\n",
       "    .dataframe thead th {\n",
       "        text-align: right;\n",
       "    }\n",
       "</style>\n",
       "<table border=\"1\" class=\"dataframe\">\n",
       "  <thead>\n",
       "    <tr style=\"text-align: right;\">\n",
       "      <th></th>\n",
       "      <th>Age</th>\n",
       "      <th>Salary</th>\n",
       "    </tr>\n",
       "  </thead>\n",
       "  <tbody>\n",
       "    <tr>\n",
       "      <th>0</th>\n",
       "      <td>25.0</td>\n",
       "      <td>50000.0</td>\n",
       "    </tr>\n",
       "    <tr>\n",
       "      <th>1</th>\n",
       "      <td>30.0</td>\n",
       "      <td>60000.0</td>\n",
       "    </tr>\n",
       "    <tr>\n",
       "      <th>2</th>\n",
       "      <td>35.0</td>\n",
       "      <td>NaN</td>\n",
       "    </tr>\n",
       "    <tr>\n",
       "      <th>3</th>\n",
       "      <td>NaN</td>\n",
       "      <td>55000.0</td>\n",
       "    </tr>\n",
       "    <tr>\n",
       "      <th>4</th>\n",
       "      <td>45.0</td>\n",
       "      <td>65000.0</td>\n",
       "    </tr>\n",
       "  </tbody>\n",
       "</table>\n",
       "</div>"
      ],
      "text/plain": [
       "    Age   Salary\n",
       "0  25.0  50000.0\n",
       "1  30.0  60000.0\n",
       "2  35.0      NaN\n",
       "3   NaN  55000.0\n",
       "4  45.0  65000.0"
      ]
     },
     "execution_count": 27,
     "metadata": {},
     "output_type": "execute_result"
    }
   ],
   "source": [
    "# Example of Bagging Imputation\n",
    "from sklearn.ensemble import BaggingRegressor\n",
    "\n",
    "# Create a sample DataFrame with missing values\n",
    "data = {'Age': [25, 30, 35, None, 45],\n",
    "        'Salary': [50000, 60000, None, 55000, 65000]}\n",
    "df = pd.DataFrame(data)\n",
    "df"
   ]
  },
  {
   "cell_type": "code",
   "execution_count": 28,
   "metadata": {},
   "outputs": [
    {
     "name": "stdout",
     "output_type": "stream",
     "text": [
      "    Age   Salary\n",
      "0  25.0  50000.0\n",
      "1  30.0  60000.0\n",
      "3   NaN  55000.0\n",
      "4  45.0  65000.0\n",
      "    Age   Salary\n",
      "0  25.0  50000.0\n",
      "1  30.0  60000.0\n",
      "4  45.0  65000.0\n",
      "   Age   Salary\n",
      "3  NaN  55000.0\n"
     ]
    }
   ],
   "source": [
    "# Preparing the data for imputation\n",
    "age_data = df.dropna(subset=['Salary'])  # Drop rows where Salary is NA\n",
    "age_train = age_data.dropna()            # Training data (no missing values)\n",
    "age_predict = age_data[age_data['Age'].isna()]  # Data where Age needs to be predicted\n",
    "\n",
    "print(age_data)\n",
    "print(age_train)\n",
    "print(age_predict)"
   ]
  },
  {
   "cell_type": "code",
   "execution_count": 29,
   "metadata": {},
   "outputs": [
    {
     "name": "stdout",
     "output_type": "stream",
     "text": [
      "    Age   Salary\n",
      "0  25.0  50000.0\n",
      "1  30.0  60000.0\n",
      "2  35.0      NaN\n",
      "3  27.0  55000.0\n",
      "4  45.0  65000.0\n"
     ]
    }
   ],
   "source": [
    "# Bagging imputation\n",
    "model = BaggingRegressor(n_estimators=100, random_state=42)\n",
    "model.fit(age_train[['Salary']], age_train['Age'])\n",
    "predicted_ages = model.predict(age_predict[['Salary']])\n",
    "\n",
    "# Fill in the missing values\n",
    "df.loc[df['Age'].isna(), 'Age'] = predicted_ages\n",
    "print(df)"
   ]
  },
  {
   "cell_type": "markdown",
   "metadata": {},
   "source": [
    "## PMM - Predictive Mean Matching\n",
    "\n",
    "**Key Difference From the Linear Interpolation**\n",
    "\n",
    "**Methodology**:\n",
    "    - Model Fit: Similar to the direct prediction, a regression model is initially fitted to the data.\n",
    "    - Prediction and Matching: Instead of using the regression outputs directly, the predicted values serve as a basis for finding the best match among the observed values in the training dataset. This means you look for real, observed data points whose predicted values are closest to the predicted value for each missing entry and use these real values as imputations.\n",
    "\n",
    "**Example: Using the same scenario of predicting Age from Salary, the PMM steps are as follows**\n",
    "\n",
    "    1. Fit a linear regression to predict Age from Salary.\n",
    "    2. Predict Age for the full dataset (or wherever needed).\n",
    "    3. For each case with a missing Age, find an observed Age from a case with a similar predicted Age."
   ]
  },
  {
   "cell_type": "code",
   "execution_count": 35,
   "metadata": {},
   "outputs": [
    {
     "data": {
      "text/html": [
       "<div>\n",
       "<style scoped>\n",
       "    .dataframe tbody tr th:only-of-type {\n",
       "        vertical-align: middle;\n",
       "    }\n",
       "\n",
       "    .dataframe tbody tr th {\n",
       "        vertical-align: top;\n",
       "    }\n",
       "\n",
       "    .dataframe thead th {\n",
       "        text-align: right;\n",
       "    }\n",
       "</style>\n",
       "<table border=\"1\" class=\"dataframe\">\n",
       "  <thead>\n",
       "    <tr style=\"text-align: right;\">\n",
       "      <th></th>\n",
       "      <th>Age</th>\n",
       "      <th>Salary</th>\n",
       "    </tr>\n",
       "  </thead>\n",
       "  <tbody>\n",
       "    <tr>\n",
       "      <th>0</th>\n",
       "      <td>25.0</td>\n",
       "      <td>50000</td>\n",
       "    </tr>\n",
       "    <tr>\n",
       "      <th>1</th>\n",
       "      <td>30.0</td>\n",
       "      <td>60000</td>\n",
       "    </tr>\n",
       "    <tr>\n",
       "      <th>2</th>\n",
       "      <td>35.0</td>\n",
       "      <td>55000</td>\n",
       "    </tr>\n",
       "    <tr>\n",
       "      <th>3</th>\n",
       "      <td>NaN</td>\n",
       "      <td>58000</td>\n",
       "    </tr>\n",
       "    <tr>\n",
       "      <th>4</th>\n",
       "      <td>45.0</td>\n",
       "      <td>62000</td>\n",
       "    </tr>\n",
       "    <tr>\n",
       "      <th>5</th>\n",
       "      <td>NaN</td>\n",
       "      <td>64000</td>\n",
       "    </tr>\n",
       "    <tr>\n",
       "      <th>6</th>\n",
       "      <td>50.0</td>\n",
       "      <td>67000</td>\n",
       "    </tr>\n",
       "  </tbody>\n",
       "</table>\n",
       "</div>"
      ],
      "text/plain": [
       "    Age  Salary\n",
       "0  25.0   50000\n",
       "1  30.0   60000\n",
       "2  35.0   55000\n",
       "3   NaN   58000\n",
       "4  45.0   62000\n",
       "5   NaN   64000\n",
       "6  50.0   67000"
      ]
     },
     "execution_count": 35,
     "metadata": {},
     "output_type": "execute_result"
    }
   ],
   "source": [
    "from sklearn.linear_model import LinearRegression\n",
    "\n",
    "# Create a sample DataFrame with some missing values in 'Age'\n",
    "data = {\n",
    "    'Age': [25, 30, 35, None, 45, None, 50],\n",
    "    'Salary': [50000, 60000, 55000, 58000, 62000, 64000, 67000]\n",
    "}\n",
    "df = pd.DataFrame(data)\n",
    "df"
   ]
  },
  {
   "cell_type": "code",
   "execution_count": 36,
   "metadata": {},
   "outputs": [],
   "source": [
    "# Split the data to those with and without missing 'Age'\n",
    "age_train = df[df['Age'].notna()]\n",
    "age_predict = df[df['Age'].isna()]"
   ]
  },
  {
   "cell_type": "code",
   "execution_count": 37,
   "metadata": {},
   "outputs": [
    {
     "name": "stdout",
     "output_type": "stream",
     "text": [
      "    Age  Salary  predicted_age\n",
      "0  25.0   50000      24.789227\n",
      "1  30.0   60000      38.665105\n",
      "2  35.0   55000      31.727166\n",
      "3  30.0   58000      35.889930\n",
      "4  45.0   62000      41.440281\n",
      "5  45.0   64000      44.215457\n",
      "6  50.0   67000      48.378220\n"
     ]
    }
   ],
   "source": [
    "# Fit the Linear Regression model to predict 'Age' from 'Salary'\n",
    "model = LinearRegression()\n",
    "model.fit(age_train[['Salary']], age_train['Age'])\n",
    "\n",
    "# Predict 'Age' for the entire dataset to find nearest neighbors\n",
    "df['predicted_age'] = model.predict(df[['Salary']])\n",
    "\n",
    "# Perform Predictive Mean Matching\n",
    "def find_pmm_value(row):\n",
    "    if pd.isna(row['Age']):\n",
    "        # Find the closest actual age\n",
    "        closest_idx = (np.abs(df.loc[df['Age'].notna(), 'predicted_age'] - row['predicted_age'])).idxmin()\n",
    "        return df.loc[closest_idx, 'Age']\n",
    "    else:\n",
    "        return row['Age']\n",
    "\n",
    "df['Age'] = df.apply(find_pmm_value, axis=1)\n",
    "\n",
    "# Output the imputed DataFrame\n",
    "print(df)"
   ]
  },
  {
   "cell_type": "markdown",
   "metadata": {},
   "source": [
    "### Key Difference of PMM\n",
    "\n",
    "**Key Differences**\n",
    "\n",
    "    1.Preservation of Data Distribution: PMM maintains the original distribution of Age since it uses actual observed values from the dataset for imputation. Direct prediction might not preserve this distribution as it generates values that might never have been observed.\n",
    "    2.Handling of Model Errors: PMM is less sensitive to model misspecification because it relies on the observed values and their ranks (not the exact predicted values). In contrast, direct prediction fully depends on the model being correctly specified.\n",
    "    3.Robustness: PMM is generally more robust to outliers in the predictor space because the matching process inherently mitigates extreme values or unusual predictions that might arise from a direct prediction model."
   ]
  }
 ],
 "metadata": {
  "kernelspec": {
   "display_name": "Python 3",
   "language": "python",
   "name": "python3"
  },
  "language_info": {
   "codemirror_mode": {
    "name": "ipython",
    "version": 3
   },
   "file_extension": ".py",
   "mimetype": "text/x-python",
   "name": "python",
   "nbconvert_exporter": "python",
   "pygments_lexer": "ipython3",
   "version": "3.10.8"
  }
 },
 "nbformat": 4,
 "nbformat_minor": 2
}
